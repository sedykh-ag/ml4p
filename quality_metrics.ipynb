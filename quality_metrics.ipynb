{
 "cells": [
  {
   "cell_type": "code",
   "execution_count": 1,
   "id": "979e36b4",
   "metadata": {},
   "outputs": [],
   "source": [
    "import numpy as np"
   ]
  },
  {
   "cell_type": "code",
   "execution_count": 2,
   "id": "253f3fd4",
   "metadata": {},
   "outputs": [],
   "source": [
    "y = np.array([11.9, 10.1, 10.1, 8.1, 11.0])\n",
    "y_hat = np.array([10.2, 10.4, 10.6, 10.8, 11.0])"
   ]
  },
  {
   "cell_type": "code",
   "execution_count": 3,
   "id": "2168afdb",
   "metadata": {},
   "outputs": [
    {
     "data": {
      "text/plain": [
       "1.2611106216347558"
      ]
     },
     "execution_count": 3,
     "metadata": {},
     "output_type": "execute_result"
    }
   ],
   "source": [
    "np.std(y)"
   ]
  },
  {
   "cell_type": "code",
   "execution_count": 16,
   "id": "8da6169a",
   "metadata": {},
   "outputs": [],
   "source": [
    "def RMSE(y, y_hat):\n",
    "    return np.sqrt(np.mean((y - y_hat)**2))\n",
    "    \n",
    "def MAE(y, y_hat):\n",
    "    return np.mean(np.abs(y - y_hat))"
   ]
  },
  {
   "cell_type": "code",
   "execution_count": 23,
   "id": "846fbb1d",
   "metadata": {},
   "outputs": [],
   "source": [
    "def MAPE(y, y_hat):\n",
    "    return np.mean(np.abs((y_hat - y)/y)) * 100"
   ]
  },
  {
   "cell_type": "code",
   "execution_count": 27,
   "id": "b0bef304",
   "metadata": {},
   "outputs": [],
   "source": [
    "def RSE(y, y_hat):\n",
    "    return np.sqrt( np.sum((y - y_hat)**2) / np.sum((y - y.mean())**2) )\n",
    "\n",
    "def RAE(y, y_hat):\n",
    "    return np.sum(np.abs(y - y_hat)) / np.sum(np.abs(y - y.mean()))"
   ]
  },
  {
   "cell_type": "code",
   "execution_count": 32,
   "id": "8e6b4d86",
   "metadata": {},
   "outputs": [],
   "source": [
    "def RMSLE(y, y_hat):\n",
    "    return np.sqrt( np.mean( (np.log(y_hat + 1) - np.log(y + 1))**2 ) )"
   ]
  },
  {
   "cell_type": "code",
   "execution_count": 21,
   "id": "21fb6a0c",
   "metadata": {},
   "outputs": [
    {
     "data": {
      "text/plain": [
       "1.4505171491575002"
      ]
     },
     "execution_count": 21,
     "metadata": {},
     "output_type": "execute_result"
    }
   ],
   "source": [
    "RMSE(y, y_hat)"
   ]
  },
  {
   "cell_type": "code",
   "execution_count": 22,
   "id": "a6f70c7d",
   "metadata": {},
   "outputs": [
    {
     "data": {
      "text/plain": [
       "1.0400000000000005"
      ]
     },
     "execution_count": 22,
     "metadata": {},
     "output_type": "execute_result"
    }
   ],
   "source": [
    "MAE(y, y_hat)"
   ]
  },
  {
   "cell_type": "code",
   "execution_count": 24,
   "id": "882ddd49",
   "metadata": {},
   "outputs": [
    {
     "data": {
      "text/plain": [
       "11.107967939651116"
      ]
     },
     "execution_count": 24,
     "metadata": {},
     "output_type": "execute_result"
    }
   ],
   "source": [
    "MAPE(y, y_hat)"
   ]
  },
  {
   "cell_type": "code",
   "execution_count": 28,
   "id": "527bba74",
   "metadata": {},
   "outputs": [
    {
     "data": {
      "text/plain": [
       "1.1501902563291553"
      ]
     },
     "execution_count": 28,
     "metadata": {},
     "output_type": "execute_result"
    }
   ],
   "source": [
    "RSE(y, y_hat)"
   ]
  },
  {
   "cell_type": "code",
   "execution_count": 29,
   "id": "cd127964",
   "metadata": {},
   "outputs": [
    {
     "data": {
      "text/plain": [
       "1.0743801652892564"
      ]
     },
     "execution_count": 29,
     "metadata": {},
     "output_type": "execute_result"
    }
   ],
   "source": [
    "RAE(y, y_hat)"
   ]
  },
  {
   "cell_type": "code",
   "execution_count": 33,
   "id": "5c9683c9",
   "metadata": {},
   "outputs": [
    {
     "data": {
      "text/plain": [
       "0.13426174782711542"
      ]
     },
     "execution_count": 33,
     "metadata": {},
     "output_type": "execute_result"
    }
   ],
   "source": [
    "RMSLE(y, y_hat)"
   ]
  },
  {
   "cell_type": "code",
   "execution_count": null,
   "id": "d6dc3a87",
   "metadata": {},
   "outputs": [],
   "source": []
  }
 ],
 "metadata": {
  "kernelspec": {
   "display_name": "Python 3 (ipykernel)",
   "language": "python",
   "name": "python3"
  },
  "language_info": {
   "codemirror_mode": {
    "name": "ipython",
    "version": 3
   },
   "file_extension": ".py",
   "mimetype": "text/x-python",
   "name": "python",
   "nbconvert_exporter": "python",
   "pygments_lexer": "ipython3",
   "version": "3.9.12"
  }
 },
 "nbformat": 4,
 "nbformat_minor": 5
}
