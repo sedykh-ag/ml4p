{
 "cells": [
  {
   "cell_type": "code",
   "execution_count": 2,
   "id": "a2686f88",
   "metadata": {},
   "outputs": [],
   "source": [
    "import numpy as np"
   ]
  },
  {
   "cell_type": "code",
   "execution_count": 2,
   "id": "41d4145c",
   "metadata": {},
   "outputs": [],
   "source": [
    "roc_aucs = np.array([0.925, 0.906, 0.929, 0.956, 0.903, 0.903, 0.957, 0.933, 0.896, 0.926])"
   ]
  },
  {
   "cell_type": "code",
   "execution_count": 3,
   "id": "90b1be88",
   "metadata": {},
   "outputs": [
    {
     "data": {
      "text/plain": [
       "0.9234000000000002"
      ]
     },
     "execution_count": 3,
     "metadata": {},
     "output_type": "execute_result"
    }
   ],
   "source": [
    "roc_aucs.mean()"
   ]
  },
  {
   "cell_type": "code",
   "execution_count": 4,
   "id": "2a3bd945",
   "metadata": {},
   "outputs": [
    {
     "data": {
      "text/plain": [
       "0.020519259245888953"
      ]
     },
     "execution_count": 4,
     "metadata": {},
     "output_type": "execute_result"
    }
   ],
   "source": [
    "roc_aucs.std()"
   ]
  },
  {
   "cell_type": "code",
   "execution_count": 3,
   "id": "17adc496",
   "metadata": {},
   "outputs": [],
   "source": [
    "a = np.array([[0.053, -0.002,  0.077, -0.006,  0.057, -0.002]])"
   ]
  },
  {
   "cell_type": "code",
   "execution_count": 4,
   "id": "6958eff5",
   "metadata": {},
   "outputs": [
    {
     "data": {
      "text/plain": [
       "0.0295"
      ]
     },
     "execution_count": 4,
     "metadata": {},
     "output_type": "execute_result"
    }
   ],
   "source": [
    "a.mean()"
   ]
  },
  {
   "cell_type": "code",
   "execution_count": null,
   "id": "98bb82da",
   "metadata": {},
   "outputs": [],
   "source": []
  }
 ],
 "metadata": {
  "kernelspec": {
   "display_name": "Python 3 (ipykernel)",
   "language": "python",
   "name": "python3"
  },
  "language_info": {
   "codemirror_mode": {
    "name": "ipython",
    "version": 3
   },
   "file_extension": ".py",
   "mimetype": "text/x-python",
   "name": "python",
   "nbconvert_exporter": "python",
   "pygments_lexer": "ipython3",
   "version": "3.9.12"
  }
 },
 "nbformat": 4,
 "nbformat_minor": 5
}
