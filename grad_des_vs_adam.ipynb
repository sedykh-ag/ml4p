{
 "cells": [
  {
   "cell_type": "code",
   "execution_count": 33,
   "id": "cccb3694",
   "metadata": {},
   "outputs": [],
   "source": [
    "import numpy as np\n",
    "import matplotlib.pyplot as plt"
   ]
  },
  {
   "cell_type": "code",
   "execution_count": 34,
   "id": "19bee4c7",
   "metadata": {},
   "outputs": [],
   "source": [
    "f = lambda x: x[0]**2 + 5*x[1]**2\n",
    "fp = lambda x: np.array([2*x[0], 10*x[1]])"
   ]
  },
  {
   "cell_type": "code",
   "execution_count": 35,
   "id": "45845a6b",
   "metadata": {},
   "outputs": [],
   "source": [
    "def grad_des(x0, n=10):\n",
    "    if n == 0:\n",
    "        return x0\n",
    "    else:\n",
    "        x1 = x0 - alpha * fp(x0)\n",
    "        return grad_des(x1, n=n-1)"
   ]
  },
  {
   "cell_type": "code",
   "execution_count": 36,
   "id": "021a8c5f",
   "metadata": {},
   "outputs": [
    {
     "name": "stdout",
     "output_type": "stream",
     "text": [
      "[ 1.4 -0.5]\n",
      "[0.98 0.25]\n",
      "[ 0.686 -0.125]\n",
      "[0.4802 0.0625]\n",
      "[ 0.33614 -0.03125]\n",
      "[0.235298 0.015625]\n",
      "[ 0.1647086 -0.0078125]\n",
      "[0.11529602 0.00390625]\n",
      "[ 0.08070721 -0.00195312]\n",
      "[0.05649505 0.00097656]\n"
     ]
    }
   ],
   "source": [
    "# Gradient descent\n",
    "\n",
    "alpha = 0.15\n",
    "\n",
    "x0 = np.array([2, 1])\n",
    "n = 10\n",
    "\n",
    "x = x0\n",
    "xs_GD = []\n",
    "xs_GD.append(x0)\n",
    "for i in range(1, n+1):\n",
    "    x = x - alpha * fp(x)\n",
    "    print(x)\n",
    "    xs_GD.append(x)\n",
    "x_GD = x"
   ]
  },
  {
   "cell_type": "code",
   "execution_count": 37,
   "id": "74eafa03",
   "metadata": {},
   "outputs": [
    {
     "data": {
      "text/plain": [
       "[array([2, 1]),\n",
       " array([ 1.4, -0.5]),\n",
       " array([0.98, 0.25]),\n",
       " array([ 0.686, -0.125]),\n",
       " array([0.4802, 0.0625]),\n",
       " array([ 0.33614, -0.03125]),\n",
       " array([0.235298, 0.015625]),\n",
       " array([ 0.1647086, -0.0078125]),\n",
       " array([0.11529602, 0.00390625]),\n",
       " array([ 0.08070721, -0.00195312]),\n",
       " array([0.05649505, 0.00097656])]"
      ]
     },
     "execution_count": 37,
     "metadata": {},
     "output_type": "execute_result"
    }
   ],
   "source": [
    "xs_GD"
   ]
  },
  {
   "cell_type": "code",
   "execution_count": 23,
   "id": "36770906",
   "metadata": {},
   "outputs": [
    {
     "name": "stdout",
     "output_type": "stream",
     "text": [
      "[1.85 0.85]\n",
      "[1.70041816 0.70112266]\n",
      "[1.5515864  0.55445574]\n",
      "[1.40388169 0.41142542]\n",
      "[1.25773005 0.27385646]\n",
      "[1.11360994 0.1439941 ]\n",
      "[0.97205476 0.02444214]\n",
      "[ 0.83365359 -0.08203054]\n",
      "[ 0.69904963 -0.17282561]\n",
      "[ 0.56893541 -0.24592352]\n"
     ]
    }
   ],
   "source": [
    "# Adam\n",
    "\n",
    "alpha = 0.15\n",
    "beta1 = 0.9\n",
    "beta2 = 0.999\n",
    "eps = 0.0\n",
    "\n",
    "x0 = x0 = np.array([2, 1])\n",
    "n = 10\n",
    "\n",
    "m = 0.0\n",
    "v = 0.0\n",
    "m_hat = 0.0\n",
    "v_hat = 0.0\n",
    "x = x0\n",
    "for i in range(1, n+1):\n",
    "    m = beta1*m + (1-beta1)*fp(x)\n",
    "    v = beta2*v + (1-beta2)*fp(x)**2\n",
    "    m_hat = m / (1-beta1**i)\n",
    "    v_hat = v / (1-beta2**i)\n",
    "        \n",
    "    x = x - alpha / (np.sqrt(v_hat) + eps) * m_hat\n",
    "    \n",
    "    print(x)\n",
    "x_Adam = x"
   ]
  },
  {
   "cell_type": "code",
   "execution_count": 24,
   "id": "6334bceb",
   "metadata": {},
   "outputs": [
    {
     "data": {
      "text/plain": [
       "array([0.05649505, 0.00097656])"
      ]
     },
     "execution_count": 24,
     "metadata": {},
     "output_type": "execute_result"
    }
   ],
   "source": [
    "x_GD"
   ]
  },
  {
   "cell_type": "code",
   "execution_count": 25,
   "id": "3de301c4",
   "metadata": {},
   "outputs": [
    {
     "data": {
      "text/plain": [
       "array([ 0.56893541, -0.24592352])"
      ]
     },
     "execution_count": 25,
     "metadata": {},
     "output_type": "execute_result"
    }
   ],
   "source": [
    "x_Adam"
   ]
  },
  {
   "cell_type": "code",
   "execution_count": 26,
   "id": "befa7587",
   "metadata": {},
   "outputs": [
    {
     "data": {
      "text/plain": [
       "0.0031964590234865114"
      ]
     },
     "execution_count": 26,
     "metadata": {},
     "output_type": "execute_result"
    }
   ],
   "source": [
    "f(x_GD)"
   ]
  },
  {
   "cell_type": "code",
   "execution_count": 28,
   "id": "45ea4323",
   "metadata": {},
   "outputs": [
    {
     "data": {
      "text/plain": [
       "0.626079395603792"
      ]
     },
     "execution_count": 28,
     "metadata": {},
     "output_type": "execute_result"
    }
   ],
   "source": [
    "f(x_Adam)"
   ]
  },
  {
   "cell_type": "code",
   "execution_count": null,
   "id": "305919be",
   "metadata": {},
   "outputs": [],
   "source": []
  }
 ],
 "metadata": {
  "kernelspec": {
   "display_name": "Python 3 (ipykernel)",
   "language": "python",
   "name": "python3"
  },
  "language_info": {
   "codemirror_mode": {
    "name": "ipython",
    "version": 3
   },
   "file_extension": ".py",
   "mimetype": "text/x-python",
   "name": "python",
   "nbconvert_exporter": "python",
   "pygments_lexer": "ipython3",
   "version": "3.9.12"
  }
 },
 "nbformat": 4,
 "nbformat_minor": 5
}
