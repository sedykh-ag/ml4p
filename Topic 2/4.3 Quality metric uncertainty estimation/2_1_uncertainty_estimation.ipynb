{
 "cells": [
  {
   "cell_type": "markdown",
   "metadata": {
    "id": "yH_khHpnydds"
   },
   "source": [
    "# Cross-validation methods\n",
    "\n",
    "In this notebook you will consider K-Fold cross validation method to estimate quality of a claasifier."
   ]
  },
  {
   "cell_type": "code",
   "execution_count": 1,
   "metadata": {
    "id": "spHQzz1uyddu",
    "jupyter": {
     "outputs_hidden": false
    }
   },
   "outputs": [],
   "source": [
    "%matplotlib inline\n",
    "import pandas as pd\n",
    "import numpy as np\n",
    "import numpy.testing as np_testing\n",
    "import matplotlib.pyplot as plt"
   ]
  },
  {
   "cell_type": "markdown",
   "metadata": {
    "id": "MHE6syRgyddw"
   },
   "source": [
    "# Load MAGIC Data Set"
   ]
  },
  {
   "cell_type": "markdown",
   "metadata": {
    "id": "RUCcYT8vyddw"
   },
   "source": [
    "<center><img src=\"https://github.com/HSE-LAMBDA/ML-IDS/blob/main/course_1/topic_2.1/2.1_uncertainty_estimation/img/magic1.png?raw=1\" width=\"1000\"></center>\n",
    "\n",
    "Source: https://magic.mpp.mpg.de/"
   ]
  },
  {
   "cell_type": "code",
   "execution_count": 2,
   "metadata": {
    "id": "QrSUAV-lyddx"
   },
   "outputs": [
    {
     "name": "stderr",
     "output_type": "stream",
     "text": [
      "'wget' is not recognized as an internal or external command,\n",
      "operable program or batch file.\n"
     ]
    }
   ],
   "source": [
    "!wget https://archive.ics.uci.edu/ml/machine-learning-databases/magic/magic04.data"
   ]
  },
  {
   "cell_type": "markdown",
   "metadata": {
    "id": "M3Tp60_Pyddy"
   },
   "source": [
    "Features description:\n",
    "- **Length:** continuous # major axis of ellipse [mm]\n",
    "- **Width:** continuous # minor axis of ellipse [mm]\n",
    "- **Size:** continuous # 10-log of sum of content of all pixels [in #phot]\n",
    "- **Conc:** continuous # ratio of sum of two highest pixels over fSize [ratio]\n",
    "- **Conc1:** continuous # ratio of highest pixel over fSize [ratio]\n",
    "- **Asym:** continuous # distance from highest pixel to center, projected onto major axis [mm]\n",
    "- **M3Long:** continuous # 3rd root of third moment along major axis [mm]\n",
    "- **M3Trans:** continuous # 3rd root of third moment along minor axis [mm]\n",
    "- **Alpha:** continuous # angle of major axis with vector to origin [deg]\n",
    "- **Dist:** continuous # distance from origin to center of ellipse [mm]\n",
    "- **Label:** g,h # gamma (signal), hadron (background)\n",
    "\n",
    "g = gamma (signal): 12332 \\\n",
    "h = hadron (background): 6688"
   ]
  },
  {
   "cell_type": "code",
   "execution_count": 3,
   "metadata": {
    "id": "6nQNyLg0yddz",
    "jupyter": {
     "outputs_hidden": false
    }
   },
   "outputs": [
    {
     "data": {
      "text/html": [
       "<div>\n",
       "<style scoped>\n",
       "    .dataframe tbody tr th:only-of-type {\n",
       "        vertical-align: middle;\n",
       "    }\n",
       "\n",
       "    .dataframe tbody tr th {\n",
       "        vertical-align: top;\n",
       "    }\n",
       "\n",
       "    .dataframe thead th {\n",
       "        text-align: right;\n",
       "    }\n",
       "</style>\n",
       "<table border=\"1\" class=\"dataframe\">\n",
       "  <thead>\n",
       "    <tr style=\"text-align: right;\">\n",
       "      <th></th>\n",
       "      <th>Length</th>\n",
       "      <th>Width</th>\n",
       "      <th>Size</th>\n",
       "      <th>Conc</th>\n",
       "      <th>Conc1</th>\n",
       "      <th>Asym</th>\n",
       "      <th>M3Long</th>\n",
       "      <th>M3Trans</th>\n",
       "      <th>Alpha</th>\n",
       "      <th>Dist</th>\n",
       "      <th>Label</th>\n",
       "    </tr>\n",
       "  </thead>\n",
       "  <tbody>\n",
       "    <tr>\n",
       "      <th>0</th>\n",
       "      <td>28.7967</td>\n",
       "      <td>16.0021</td>\n",
       "      <td>2.6449</td>\n",
       "      <td>0.3918</td>\n",
       "      <td>0.1982</td>\n",
       "      <td>27.7004</td>\n",
       "      <td>22.0110</td>\n",
       "      <td>-8.2027</td>\n",
       "      <td>40.0920</td>\n",
       "      <td>81.8828</td>\n",
       "      <td>g</td>\n",
       "    </tr>\n",
       "    <tr>\n",
       "      <th>1</th>\n",
       "      <td>31.6036</td>\n",
       "      <td>11.7235</td>\n",
       "      <td>2.5185</td>\n",
       "      <td>0.5303</td>\n",
       "      <td>0.3773</td>\n",
       "      <td>26.2722</td>\n",
       "      <td>23.8238</td>\n",
       "      <td>-9.9574</td>\n",
       "      <td>6.3609</td>\n",
       "      <td>205.2610</td>\n",
       "      <td>g</td>\n",
       "    </tr>\n",
       "    <tr>\n",
       "      <th>2</th>\n",
       "      <td>162.0520</td>\n",
       "      <td>136.0310</td>\n",
       "      <td>4.0612</td>\n",
       "      <td>0.0374</td>\n",
       "      <td>0.0187</td>\n",
       "      <td>116.7410</td>\n",
       "      <td>-64.8580</td>\n",
       "      <td>-45.2160</td>\n",
       "      <td>76.9600</td>\n",
       "      <td>256.7880</td>\n",
       "      <td>g</td>\n",
       "    </tr>\n",
       "    <tr>\n",
       "      <th>3</th>\n",
       "      <td>23.8172</td>\n",
       "      <td>9.5728</td>\n",
       "      <td>2.3385</td>\n",
       "      <td>0.6147</td>\n",
       "      <td>0.3922</td>\n",
       "      <td>27.2107</td>\n",
       "      <td>-6.4633</td>\n",
       "      <td>-7.1513</td>\n",
       "      <td>10.4490</td>\n",
       "      <td>116.7370</td>\n",
       "      <td>g</td>\n",
       "    </tr>\n",
       "    <tr>\n",
       "      <th>4</th>\n",
       "      <td>75.1362</td>\n",
       "      <td>30.9205</td>\n",
       "      <td>3.1611</td>\n",
       "      <td>0.3168</td>\n",
       "      <td>0.1832</td>\n",
       "      <td>-5.5277</td>\n",
       "      <td>28.5525</td>\n",
       "      <td>21.8393</td>\n",
       "      <td>4.6480</td>\n",
       "      <td>356.4620</td>\n",
       "      <td>g</td>\n",
       "    </tr>\n",
       "  </tbody>\n",
       "</table>\n",
       "</div>"
      ],
      "text/plain": [
       "     Length     Width    Size    Conc   Conc1      Asym   M3Long  M3Trans  \\\n",
       "0   28.7967   16.0021  2.6449  0.3918  0.1982   27.7004  22.0110  -8.2027   \n",
       "1   31.6036   11.7235  2.5185  0.5303  0.3773   26.2722  23.8238  -9.9574   \n",
       "2  162.0520  136.0310  4.0612  0.0374  0.0187  116.7410 -64.8580 -45.2160   \n",
       "3   23.8172    9.5728  2.3385  0.6147  0.3922   27.2107  -6.4633  -7.1513   \n",
       "4   75.1362   30.9205  3.1611  0.3168  0.1832   -5.5277  28.5525  21.8393   \n",
       "\n",
       "     Alpha      Dist Label  \n",
       "0  40.0920   81.8828     g  \n",
       "1   6.3609  205.2610     g  \n",
       "2  76.9600  256.7880     g  \n",
       "3  10.4490  116.7370     g  \n",
       "4   4.6480  356.4620     g  "
      ]
     },
     "execution_count": 3,
     "metadata": {},
     "output_type": "execute_result"
    }
   ],
   "source": [
    "f_names = np.array([\"Length\", \"Width\", \"Size\", \"Conc\", \"Conc1\", \"Asym\", \"M3Long\", \"M3Trans\", \"Alpha\", \"Dist\"])\n",
    "\n",
    "data = pd.read_csv(\"magic04.data\", header=None, names=list(f_names)+[\"Label\"])\n",
    "data.head()"
   ]
  },
  {
   "cell_type": "markdown",
   "metadata": {
    "id": "_MTH53Yvydd0"
   },
   "source": [
    "# Data preparation"
   ]
  },
  {
   "cell_type": "code",
   "execution_count": 4,
   "metadata": {
    "id": "AB3GX7zEydd0"
   },
   "outputs": [],
   "source": [
    "# prepare a matrix of input features\n",
    "X = data[f_names].values\n",
    "\n",
    "# prepare a vector of true labels\n",
    "y = 1 * (data['Label'].values == \"g\")"
   ]
  },
  {
   "cell_type": "code",
   "execution_count": 5,
   "metadata": {
    "id": "tWm9foCjydd1"
   },
   "outputs": [
    {
     "data": {
      "text/plain": [
       "((19020, 10), (19020,))"
      ]
     },
     "execution_count": 5,
     "metadata": {},
     "output_type": "execute_result"
    }
   ],
   "source": [
    "# print sizes of X and y\n",
    "X.shape, y.shape"
   ]
  },
  {
   "cell_type": "code",
   "execution_count": 6,
   "metadata": {
    "id": "1XmW4T39ydd2"
   },
   "outputs": [
    {
     "data": {
      "text/plain": [
       "array([[ 2.87967e+01,  1.60021e+01,  2.64490e+00,  3.91800e-01,\n",
       "         1.98200e-01,  2.77004e+01,  2.20110e+01, -8.20270e+00,\n",
       "         4.00920e+01,  8.18828e+01],\n",
       "       [ 3.16036e+01,  1.17235e+01,  2.51850e+00,  5.30300e-01,\n",
       "         3.77300e-01,  2.62722e+01,  2.38238e+01, -9.95740e+00,\n",
       "         6.36090e+00,  2.05261e+02]])"
      ]
     },
     "execution_count": 6,
     "metadata": {},
     "output_type": "execute_result"
    }
   ],
   "source": [
    "X[:2]"
   ]
  },
  {
   "cell_type": "code",
   "execution_count": 7,
   "metadata": {
    "id": "OfkgkrTiydd3"
   },
   "outputs": [
    {
     "data": {
      "text/plain": [
       "array([1, 1, 1, 1, 1])"
      ]
     },
     "execution_count": 7,
     "metadata": {},
     "output_type": "execute_result"
    }
   ],
   "source": [
    "y[:5]"
   ]
  },
  {
   "cell_type": "markdown",
   "metadata": {
    "id": "WU-yUxVHydd4"
   },
   "source": [
    "# Preprocessing"
   ]
  },
  {
   "cell_type": "markdown",
   "metadata": {
    "id": "qglExlBXydd4"
   },
   "source": [
    "Scale input data using StandardScaler:\n",
    "$$\n",
    "X_{new} = \\frac{X - \\mu}{\\sigma}\n",
    "$$"
   ]
  },
  {
   "cell_type": "code",
   "execution_count": 8,
   "metadata": {
    "id": "6MoYbEp7ydd5",
    "jupyter": {
     "outputs_hidden": false
    }
   },
   "outputs": [],
   "source": [
    "# Import StandardScaler\n",
    "from sklearn.preprocessing import StandardScaler\n",
    "\n",
    "# Create object of the class and set up its parameters\n",
    "ss = StandardScaler()\n",
    "\n",
    "# Estimate mean and sigma values\n",
    "ss.fit(X)\n",
    "\n",
    "# Scale the sample\n",
    "X = ss.transform(X)"
   ]
  },
  {
   "cell_type": "markdown",
   "metadata": {
    "id": "J_f2eOOmydd5"
   },
   "source": [
    "# Train / test split"
   ]
  },
  {
   "cell_type": "markdown",
   "metadata": {
    "id": "9FcJR5mXydd6"
   },
   "source": [
    "Split the dataset into train and test samples. "
   ]
  },
  {
   "cell_type": "code",
   "execution_count": 9,
   "metadata": {
    "id": "HRB0vJgaydd6"
   },
   "outputs": [],
   "source": [
    "from sklearn.model_selection import train_test_split\n",
    "\n",
    "X_train, X_test, y_train, y_test = train_test_split(X, y, test_size=0.5, stratify=y, random_state=11)"
   ]
  },
  {
   "cell_type": "markdown",
   "metadata": {
    "id": "5f9puFg2ydd7"
   },
   "source": [
    "# Define a model\n"
   ]
  },
  {
   "cell_type": "markdown",
   "metadata": {
    "id": "XegZPUQcydd7"
   },
   "source": [
    "Now let's create a neural network and fit it."
   ]
  },
  {
   "cell_type": "code",
   "execution_count": 10,
   "metadata": {
    "id": "-N-j8pMXydd8"
   },
   "outputs": [],
   "source": [
    "#!pip install pytorch-lightning "
   ]
  },
  {
   "cell_type": "code",
   "execution_count": 11,
   "metadata": {
    "id": "zLlG6DFTydd8"
   },
   "outputs": [],
   "source": [
    "import torch\n",
    "from torch.nn import functional as F\n",
    "from torch import nn\n",
    "import pytorch_lightning as pl\n",
    "\n",
    "class Model(pl.LightningModule):\n",
    "\n",
    "    def __init__(self):\n",
    "        super().__init__()\n",
    "        \n",
    "        # define all layers of the netwrok\n",
    "        self.net = nn.Sequential(\n",
    "                                nn.Linear(10, 10), \n",
    "                                nn.Tanh(), \n",
    "                                nn.Linear(10, 1), \n",
    "                                nn.Sigmoid())\n",
    "\n",
    "    \n",
    "    def forward(self, x):\n",
    "        # make a prediction for x\n",
    "        return self.net(x)\n",
    "\n",
    "    # calculate loss function values\n",
    "    def training_step(self, batch, batch_idx):\n",
    "        x, y = batch\n",
    "        y_hat = self(x)\n",
    "        loss = F.binary_cross_entropy(y_hat, y)\n",
    "        return loss\n",
    "\n",
    "    # define optimizer to fit the network\n",
    "    def configure_optimizers(self):\n",
    "        return torch.optim.Adam(self.parameters(), lr=0.02)"
   ]
  },
  {
   "cell_type": "code",
   "execution_count": 12,
   "metadata": {
    "id": "LVNXVxNmydd9"
   },
   "outputs": [
    {
     "data": {
      "text/plain": [
       "Model(\n",
       "  (net): Sequential(\n",
       "    (0): Linear(in_features=10, out_features=10, bias=True)\n",
       "    (1): Tanh()\n",
       "    (2): Linear(in_features=10, out_features=1, bias=True)\n",
       "    (3): Sigmoid()\n",
       "  )\n",
       ")"
      ]
     },
     "execution_count": 12,
     "metadata": {},
     "output_type": "execute_result"
    }
   ],
   "source": [
    "model = Model()\n",
    "model"
   ]
  },
  {
   "cell_type": "markdown",
   "metadata": {
    "id": "9nUoEmrZydd-"
   },
   "source": [
    "# Data loader creation\n",
    "\n",
    "We will define a helping function for converting `X_train` and `y_train` into PyTorch `DataLoader`."
   ]
  },
  {
   "cell_type": "code",
   "execution_count": 13,
   "metadata": {
    "id": "WnU9CQr4ydd-"
   },
   "outputs": [],
   "source": [
    "from torch.utils.data import TensorDataset, DataLoader\n",
    "\n",
    "def create_data_loader(X_train, y_train, batch_size=128):\n",
    "    # combine X and y into one pytorch tensor dataset\n",
    "    dataset_train = TensorDataset(torch.tensor(X_train, dtype=torch.float), \n",
    "                                  torch.tensor(y_train.reshape(-1, 1), dtype=torch.float))\n",
    "    # loader divides our train data into batches\n",
    "    train_loader = DataLoader(dataset_train, batch_size=batch_size, num_workers=4)\n",
    "    return train_loader"
   ]
  },
  {
   "cell_type": "code",
   "execution_count": 14,
   "metadata": {
    "id": "YIkvTFhhydd-"
   },
   "outputs": [
    {
     "data": {
      "text/plain": [
       "<torch.utils.data.dataloader.DataLoader at 0x2b4d06b0af0>"
      ]
     },
     "execution_count": 14,
     "metadata": {},
     "output_type": "execute_result"
    }
   ],
   "source": [
    "# example of usage\n",
    "create_data_loader(X[:5], y[:5], 1)"
   ]
  },
  {
   "cell_type": "markdown",
   "metadata": {
    "id": "28WEGr0iydd_"
   },
   "source": [
    "# Quality metrics\n",
    "\n",
    "We will use the function below to calculate quality metrics for out model."
   ]
  },
  {
   "cell_type": "code",
   "execution_count": 15,
   "metadata": {
    "id": "UnzLTi_pydd_"
   },
   "outputs": [],
   "source": [
    "from sklearn import metrics\n",
    "\n",
    "def quality_metrics_report(y_true, y_pred, y_proba):\n",
    "    \"\"\"\n",
    "    Parameters\n",
    "    ----------\n",
    "    y_true: array-like of shape (n_samples,)\n",
    "        Ground truth (correct) target values.\n",
    "    y_pred: array-like of shape (n_samples,)\n",
    "        Estimated targets as returned by a classifier.\n",
    "    y_proba : array, shape = [n_samples]\n",
    "        Target scores, can be probability estimates of the positive\n",
    "        class.\n",
    "        \n",
    "    Returns\n",
    "    -------\n",
    "    List of metric values: [accuracy, precision, recall, f1, roc_auc]\n",
    "    \"\"\"\n",
    "    \n",
    "    accuracy  = metrics.accuracy_score(y_true, y_pred)\n",
    "    precision = metrics.precision_score(y_true, y_pred)\n",
    "    recall    = metrics.recall_score(y_true, y_pred)\n",
    "    f1        = metrics.f1_score(y_true, y_pred)\n",
    "    roc_auc   = metrics.roc_auc_score(y_true, y_proba)\n",
    "    \n",
    "    return [accuracy, precision, recall, f1, roc_auc]"
   ]
  },
  {
   "cell_type": "code",
   "execution_count": 16,
   "metadata": {
    "id": "RtJS8fcXydd_"
   },
   "outputs": [
    {
     "data": {
      "text/plain": [
       "[0.75, 0.6666666666666666, 1.0, 0.8, 1.0]"
      ]
     },
     "execution_count": 16,
     "metadata": {},
     "output_type": "execute_result"
    }
   ],
   "source": [
    "# example of usage\n",
    "quality_metrics_report(y_true=[0, 0, 1, 1], \n",
    "                       y_pred=[0, 1, 1, 1], \n",
    "                       y_proba=[0.1, 0.6, 0.8, 0.9])"
   ]
  },
  {
   "cell_type": "markdown",
   "metadata": {
    "id": "FIcx0ZFQydeA"
   },
   "source": [
    "# Fit model"
   ]
  },
  {
   "cell_type": "code",
   "execution_count": 17,
   "metadata": {
    "id": "rDL5wyf3ydeA"
   },
   "outputs": [
    {
     "name": "stderr",
     "output_type": "stream",
     "text": [
      "GPU available: True (cuda), used: False\n",
      "TPU available: False, using: 0 TPU cores\n",
      "IPU available: False, using: 0 IPUs\n",
      "HPU available: False, using: 0 HPUs\n",
      "C:\\Users\\total\\anaconda3\\lib\\site-packages\\pytorch_lightning\\trainer\\setup.py:175: PossibleUserWarning: GPU available but not used. Set `accelerator` and `devices` using `Trainer(accelerator='gpu', devices=1)`.\n",
      "  rank_zero_warn(\n",
      "\n",
      "  | Name | Type       | Params\n",
      "------------------------------------\n",
      "0 | net  | Sequential | 121   \n",
      "------------------------------------\n",
      "121       Trainable params\n",
      "0         Non-trainable params\n",
      "121       Total params\n",
      "0.000     Total estimated model params size (MB)\n"
     ]
    },
    {
     "data": {
      "application/vnd.jupyter.widget-view+json": {
       "model_id": "292d9a16873c472d8f1c8ba4785515f7",
       "version_major": 2,
       "version_minor": 0
      },
      "text/plain": [
       "Training: 0it [00:00, ?it/s]"
      ]
     },
     "metadata": {},
     "output_type": "display_data"
    },
    {
     "name": "stderr",
     "output_type": "stream",
     "text": [
      "`Trainer.fit` stopped: `max_epochs=10` reached.\n"
     ]
    }
   ],
   "source": [
    "# init model and trainer\n",
    "model = Model()\n",
    "trainer = pl.Trainer(max_epochs=10)\n",
    "\n",
    "# create pytorch dataloader\n",
    "train_loader = create_data_loader(X_train, y_train, batch_size=128)\n",
    "\n",
    "# fit the model\n",
    "trainer.fit(model, train_loader)"
   ]
  },
  {
   "cell_type": "markdown",
   "metadata": {
    "id": "mgdET8IiydeA"
   },
   "source": [
    "# Test model"
   ]
  },
  {
   "cell_type": "code",
   "execution_count": 18,
   "metadata": {
    "id": "vt3qSNnTydeB"
   },
   "outputs": [],
   "source": [
    "# make prediction\n",
    "y_test_proba = model(torch.tensor(X_test, dtype=torch.float))[:, 0].detach().numpy()\n",
    "y_test_pred  = 1 * (y_test_proba > 0.5)"
   ]
  },
  {
   "cell_type": "code",
   "execution_count": 19,
   "metadata": {
    "id": "aZH8zqZuydeB"
   },
   "outputs": [
    {
     "data": {
      "text/plain": [
       "array([0.93179524, 0.0030386 , 0.76265246, 0.76658154, 0.9591633 ],\n",
       "      dtype=float32)"
      ]
     },
     "execution_count": 19,
     "metadata": {},
     "output_type": "execute_result"
    }
   ],
   "source": [
    "# example\n",
    "y_test_proba[:5]"
   ]
  },
  {
   "cell_type": "code",
   "execution_count": 20,
   "metadata": {
    "id": "xWzfGGYPydeC"
   },
   "outputs": [
    {
     "data": {
      "text/plain": [
       "array([1, 0, 1, 1, 1])"
      ]
     },
     "execution_count": 20,
     "metadata": {},
     "output_type": "execute_result"
    }
   ],
   "source": [
    "# example\n",
    "y_test_pred[:5]"
   ]
  },
  {
   "cell_type": "code",
   "execution_count": 21,
   "metadata": {
    "id": "4kb7sITdydeC"
   },
   "outputs": [
    {
     "data": {
      "text/plain": [
       "array([0, 0, 1, 0, 1])"
      ]
     },
     "execution_count": 21,
     "metadata": {},
     "output_type": "execute_result"
    }
   ],
   "source": [
    "# example\n",
    "y_test[:5]"
   ]
  },
  {
   "cell_type": "code",
   "execution_count": 22,
   "metadata": {
    "id": "OaGO1_FlydeC"
   },
   "outputs": [
    {
     "data": {
      "text/plain": [
       "[0.859831756046267,\n",
       " 0.8613728129205922,\n",
       " 0.9341550437885177,\n",
       " 0.8962888041702327,\n",
       " 0.9165737512163477]"
      ]
     },
     "execution_count": 22,
     "metadata": {},
     "output_type": "execute_result"
    }
   ],
   "source": [
    "# compute quaility metrics\n",
    "report = quality_metrics_report(y_test, y_test_pred, y_test_proba)\n",
    "report"
   ]
  },
  {
   "cell_type": "code",
   "execution_count": 23,
   "metadata": {
    "id": "ruhUGILYydeD"
   },
   "outputs": [
    {
     "data": {
      "text/html": [
       "<div>\n",
       "<style scoped>\n",
       "    .dataframe tbody tr th:only-of-type {\n",
       "        vertical-align: middle;\n",
       "    }\n",
       "\n",
       "    .dataframe tbody tr th {\n",
       "        vertical-align: top;\n",
       "    }\n",
       "\n",
       "    .dataframe thead th {\n",
       "        text-align: right;\n",
       "    }\n",
       "</style>\n",
       "<table border=\"1\" class=\"dataframe\">\n",
       "  <thead>\n",
       "    <tr style=\"text-align: right;\">\n",
       "      <th></th>\n",
       "      <th>Metrics</th>\n",
       "      <th>Mean</th>\n",
       "    </tr>\n",
       "  </thead>\n",
       "  <tbody>\n",
       "    <tr>\n",
       "      <th>0</th>\n",
       "      <td>Accuracy</td>\n",
       "      <td>0.859832</td>\n",
       "    </tr>\n",
       "    <tr>\n",
       "      <th>1</th>\n",
       "      <td>Precision</td>\n",
       "      <td>0.861373</td>\n",
       "    </tr>\n",
       "    <tr>\n",
       "      <th>2</th>\n",
       "      <td>Recall</td>\n",
       "      <td>0.934155</td>\n",
       "    </tr>\n",
       "    <tr>\n",
       "      <th>3</th>\n",
       "      <td>F1</td>\n",
       "      <td>0.896289</td>\n",
       "    </tr>\n",
       "    <tr>\n",
       "      <th>4</th>\n",
       "      <td>ROC AUC</td>\n",
       "      <td>0.916574</td>\n",
       "    </tr>\n",
       "  </tbody>\n",
       "</table>\n",
       "</div>"
      ],
      "text/plain": [
       "     Metrics      Mean\n",
       "0   Accuracy  0.859832\n",
       "1  Precision  0.861373\n",
       "2     Recall  0.934155\n",
       "3         F1  0.896289\n",
       "4    ROC AUC  0.916574"
      ]
     },
     "execution_count": 23,
     "metadata": {},
     "output_type": "execute_result"
    }
   ],
   "source": [
    "# transform report into a table\n",
    "df = pd.DataFrame()\n",
    "df['Metrics'] = ['Accuracy', 'Precision', 'Recall', 'F1', 'ROC AUC']\n",
    "df['Mean']    = report\n",
    "df"
   ]
  },
  {
   "cell_type": "markdown",
   "metadata": {
    "id": "Xm1WI9QlydeD"
   },
   "source": [
    "# Uncertainty estimation with bootstrap"
   ]
  },
  {
   "cell_type": "markdown",
   "metadata": {
    "id": "K9tNb_22ydeD"
   },
   "source": [
    "We will estimate uncertainties of the quality metrics using the bootstrap method.\n",
    "\n",
    "<center><img src=\"https://github.com/HSE-LAMBDA/ML-IDS/blob/main/course_1/topic_2.1/2.1_uncertainty_estimation/img/bootstrap.png?raw=1\" width=\"600\"></center>"
   ]
  },
  {
   "cell_type": "markdown",
   "metadata": {
    "id": "_E6oIeXFydeD"
   },
   "source": [
    "Algorithm:\n",
    "    \n",
    "- Given a model fitted on a train sample\n",
    "- N – number of objects in a test sample\n",
    "- For i=1, …, B do\n",
    "    - Sample with **replacement** a subsample with N objects from the test sample\n",
    "    - Calculate quality metrics on this subsample\n",
    "- Estimate statistics of the metrics: mean, **variance**, confidence intervals\n"
   ]
  },
  {
   "cell_type": "markdown",
   "metadata": {
    "id": "w5jCw1giydeE"
   },
   "source": [
    "# Task 1\n",
    "Using `y_test_pred`, `y_test_proba` predictions, and the bootstrap estimate means and standard deviation of the quality metrics for the classifier above. \n",
    "\n",
    "**Hint:** use `resample(y_test, y_test_pred, y_test_proba, replace=True, n_samples=len(y_test))` to make bootstrap samples. Use function `quality_metrics_report` above to compute the quality metrics."
   ]
  },
  {
   "cell_type": "code",
   "execution_count": 39,
   "metadata": {
    "id": "fpR98-DgydeE"
   },
   "outputs": [],
   "source": [
    "from sklearn.utils import resample\n",
    "\n",
    "def boostrap_uncertainties(y_test, y_test_pred, y_test_proba, n_iterations=100):\n",
    "    \n",
    "    metrics = []\n",
    "    \n",
    "    # go through each iteration of KFold\n",
    "    for it in range(n_iterations):\n",
    "        \n",
    "        ### BEGIN SOLUTION\n",
    "        \n",
    "        sample = resample(y_test, y_test_pred, y_test_proba, replace=True, n_samples=len(y_test))\n",
    "        metrics.append(quality_metrics_report(*sample))\n",
    "        \n",
    "        ### END SOLUTION\n",
    "        \n",
    "    metrics = np.array(metrics)\n",
    "    df = pd.DataFrame()\n",
    "    df['Metrics'] = columns=['Accuracy', 'Precision', 'Recall', 'F1', 'ROC AUC']\n",
    "    df['Mean']    = metrics.mean(axis=0)\n",
    "    df['Std']     = metrics.std(axis=0)\n",
    "    \n",
    "    return df"
   ]
  },
  {
   "cell_type": "code",
   "execution_count": 40,
   "metadata": {
    "id": "s9x6xPjYydeE"
   },
   "outputs": [
    {
     "data": {
      "text/html": [
       "<div>\n",
       "<style scoped>\n",
       "    .dataframe tbody tr th:only-of-type {\n",
       "        vertical-align: middle;\n",
       "    }\n",
       "\n",
       "    .dataframe tbody tr th {\n",
       "        vertical-align: top;\n",
       "    }\n",
       "\n",
       "    .dataframe thead th {\n",
       "        text-align: right;\n",
       "    }\n",
       "</style>\n",
       "<table border=\"1\" class=\"dataframe\">\n",
       "  <thead>\n",
       "    <tr style=\"text-align: right;\">\n",
       "      <th></th>\n",
       "      <th>Metrics</th>\n",
       "      <th>Mean</th>\n",
       "      <th>Std</th>\n",
       "    </tr>\n",
       "  </thead>\n",
       "  <tbody>\n",
       "    <tr>\n",
       "      <th>0</th>\n",
       "      <td>Accuracy</td>\n",
       "      <td>0.859772</td>\n",
       "      <td>0.003917</td>\n",
       "    </tr>\n",
       "    <tr>\n",
       "      <th>1</th>\n",
       "      <td>Precision</td>\n",
       "      <td>0.861365</td>\n",
       "      <td>0.004345</td>\n",
       "    </tr>\n",
       "    <tr>\n",
       "      <th>2</th>\n",
       "      <td>Recall</td>\n",
       "      <td>0.934170</td>\n",
       "      <td>0.003444</td>\n",
       "    </tr>\n",
       "    <tr>\n",
       "      <th>3</th>\n",
       "      <td>F1</td>\n",
       "      <td>0.896285</td>\n",
       "      <td>0.003221</td>\n",
       "    </tr>\n",
       "    <tr>\n",
       "      <th>4</th>\n",
       "      <td>ROC AUC</td>\n",
       "      <td>0.916408</td>\n",
       "      <td>0.002920</td>\n",
       "    </tr>\n",
       "  </tbody>\n",
       "</table>\n",
       "</div>"
      ],
      "text/plain": [
       "     Metrics      Mean       Std\n",
       "0   Accuracy  0.859772  0.003917\n",
       "1  Precision  0.861365  0.004345\n",
       "2     Recall  0.934170  0.003444\n",
       "3         F1  0.896285  0.003221\n",
       "4    ROC AUC  0.916408  0.002920"
      ]
     },
     "execution_count": 40,
     "metadata": {},
     "output_type": "execute_result"
    }
   ],
   "source": [
    "# run uncertainty estimation\n",
    "report = boostrap_uncertainties(y_test, y_test_pred, y_test_proba, n_iterations=100)\n",
    "report"
   ]
  },
  {
   "cell_type": "markdown",
   "metadata": {
    "id": "lUXbd_V4ydeF"
   },
   "source": [
    "Expected approximate output:\n",
    "\n",
    "<center>   \n",
    "    \n",
    "```python\n",
    "Metrics       Mean     Std\n",
    "0 Accuracy    0.862501 0.003302\n",
    "1 Precision   0.861022 0.003830\n",
    "2 Recall      0.939593 0.003435\n",
    "3 F1          0.898587 0.002760\n",
    "``` \n",
    "    \n",
    "</center>"
   ]
  },
  {
   "cell_type": "code",
   "execution_count": 46,
   "metadata": {
    "id": "R_5-_aojydeF"
   },
   "outputs": [],
   "source": [
    "### BEGIN HIDDEN TESTS\n",
    "actual  = report.values[-1, 1:].astype(float)\n",
    "desired = np.array([0.920540, 0.002441])\n",
    "np_testing.assert_allclose(actual, desired, atol=0.005)\n",
    "### END HIDDEN TESTS"
   ]
  },
  {
   "cell_type": "code",
   "execution_count": null,
   "metadata": {},
   "outputs": [],
   "source": []
  }
 ],
 "metadata": {
  "colab": {
   "provenance": []
  },
  "kernelspec": {
   "display_name": "Python 3 (ipykernel)",
   "language": "python",
   "name": "python3"
  },
  "language_info": {
   "codemirror_mode": {
    "name": "ipython",
    "version": 3
   },
   "file_extension": ".py",
   "mimetype": "text/x-python",
   "name": "python",
   "nbconvert_exporter": "python",
   "pygments_lexer": "ipython3",
   "version": "3.9.12"
  }
 },
 "nbformat": 4,
 "nbformat_minor": 1
}
